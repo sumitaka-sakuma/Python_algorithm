{
 "cells": [
  {
   "cell_type": "code",
   "execution_count": 1,
   "metadata": {},
   "outputs": [
    {
     "name": "stdout",
     "output_type": "stream",
     "text": [
      "(0)<->(1)\n",
      "(0)<->(2)\n",
      "(1)<->(2)\n",
      "(1)<->(3)\n",
      "(2)<->(4)\n",
      "(3)<->(4)\n"
     ]
    }
   ],
   "source": [
    "# 隣接行列\n",
    "data = [\n",
    "    [0, 1, 1, 0, 0],\n",
    "    [1, 0, 1, 1, 0],\n",
    "    [1, 1, 0, 0, 1],\n",
    "    [0, 1, 0, 0, 1],\n",
    "    [0, 0, 1, 1, 0]\n",
    "]\n",
    "\n",
    "# ノードの番号を定義\n",
    "node = [\"(0)\", \"(1)\", \"(2)\", \"(3)\", \"(4)\", \"(5)\"]\n",
    "\n",
    "for i in range(5):\n",
    "    for j in range(i, 5):\n",
    "        if data[i][j] == 1 and data[i][j]:\n",
    "            print(node[i]+ \"<->\" + node[j])"
   ]
  },
  {
   "cell_type": "code",
   "execution_count": 3,
   "metadata": {},
   "outputs": [
    {
     "name": "stdout",
     "output_type": "stream",
     "text": [
      "(0)-->(1)\n",
      "(0)-->(2)\n",
      "(1)-->(2)\n",
      "(1)-->(3)\n",
      "(2)<--(4)\n",
      "(3)<->(4)\n"
     ]
    }
   ],
   "source": [
    "# 隣接行列（有向グラフに対応）\n",
    "data = [\n",
    "    [0, 1, 1, 0, 0],\n",
    "    [0, 0, 1, 1, 0],\n",
    "    [0, 0, 0, 0, 0],\n",
    "    [0, 0, 0, 0, 1],\n",
    "    [0, 0, 1, 1, 0]\n",
    "]\n",
    "\n",
    "# ノードの番号を定義\n",
    "node = [\"(0)\", \"(1)\", \"(2)\", \"(3)\", \"(4)\", \"(5)\"]\n",
    "# エッジの向きを定義\n",
    "arrow = [\"\", \"-->\", \"<--\", \"<->\"]\n",
    "\n",
    "for i in range(5):\n",
    "    for j in range(i, 5):\n",
    "        # iからjにつながるか\n",
    "        e1 = data[i][j]\n",
    "        # jからiにつながるか\n",
    "        e2 = data[j][i]\n",
    "        # つながりの向きを計算\n",
    "        result = e1 + e2*2\n",
    "        \n",
    "        if result > 0:\n",
    "            print(node[i] + arrow[result] + node[j])"
   ]
  },
  {
   "cell_type": "code",
   "execution_count": null,
   "metadata": {},
   "outputs": [],
   "source": []
  }
 ],
 "metadata": {
  "kernelspec": {
   "display_name": "Python 3",
   "language": "python",
   "name": "python3"
  },
  "language_info": {
   "codemirror_mode": {
    "name": "ipython",
    "version": 3
   },
   "file_extension": ".py",
   "mimetype": "text/x-python",
   "name": "python",
   "nbconvert_exporter": "python",
   "pygments_lexer": "ipython3",
   "version": "3.8.5"
  }
 },
 "nbformat": 4,
 "nbformat_minor": 4
}
