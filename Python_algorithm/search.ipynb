{
 "cells": [
  {
   "cell_type": "code",
   "execution_count": 1,
   "metadata": {},
   "outputs": [
    {
     "name": "stdin",
     "output_type": "stream",
     "text": [
      "探す値を入力してください 9\n"
     ]
    },
    {
     "name": "stdout",
     "output_type": "stream",
     "text": [
      "L=0 M=7 R=14\n",
      "L=0 M=3 R=6\n",
      "L=0 M=1 R=2\n",
      "L=2 M=2 R=2\n",
      "data[2]が9です\n"
     ]
    }
   ],
   "source": [
    "# 二分検索\n",
    "data = [1, 2, 9, 12, 20, 25, 32, 48, 50, 57, 72, 78, 80, 93, 100]\n",
    "key = int(input(\"探す値を入力してください\"))\n",
    "\n",
    "left = 0\n",
    "right = len(data)-1\n",
    "flg = False\n",
    "\n",
    "# left <= rightの間、繰り返す\n",
    "while left <= right:\n",
    "    #leftとrightの真ん中の値を出力\n",
    "    mid = (left+right)//2\n",
    "    print(\"L={} M={} R={}\".format(left, mid, right))\n",
    "    \n",
    "    # 目的の値があるかどうか\n",
    "    if data[mid] == key:\n",
    "        print(\"data[{}]が{}です\".format(mid, key))\n",
    "        flg = True\n",
    "        break\n",
    "        \n",
    "    # data[mid]が目的の値より小さい場合\n",
    "    if data[mid] < key:\n",
    "        left = mid + 1\n",
    "    else:\n",
    "        right = mid - 1\n",
    "\n",
    "if flg == False:\n",
    "    print(\"目的の値は見つかりませんでした。\")"
   ]
  },
  {
   "cell_type": "code",
   "execution_count": null,
   "metadata": {},
   "outputs": [],
   "source": []
  }
 ],
 "metadata": {
  "kernelspec": {
   "display_name": "Python 3",
   "language": "python",
   "name": "python3"
  },
  "language_info": {
   "codemirror_mode": {
    "name": "ipython",
    "version": 3
   },
   "file_extension": ".py",
   "mimetype": "text/x-python",
   "name": "python",
   "nbconvert_exporter": "python",
   "pygments_lexer": "ipython3",
   "version": "3.8.5"
  }
 },
 "nbformat": 4,
 "nbformat_minor": 4
}
