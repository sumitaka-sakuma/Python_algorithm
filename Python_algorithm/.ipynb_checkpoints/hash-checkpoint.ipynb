{
 "cells": [
  {
   "cell_type": "code",
   "execution_count": 1,
   "metadata": {},
   "outputs": [
    {
     "name": "stdout",
     "output_type": "stream",
     "text": [
      "文字列をハッシュ値に変換します。\n",
      "何も入力しないと終了します。\n"
     ]
    },
    {
     "name": "stdin",
     "output_type": "stream",
     "text": [
      "文字列を入力してください 佐久間純貴\n"
     ]
    },
    {
     "name": "stdout",
     "output_type": "stream",
     "text": [
      "佐久間純貴 →ハッシュ値 672\n"
     ]
    },
    {
     "name": "stdin",
     "output_type": "stream",
     "text": [
      "文字列を入力してください \n"
     ]
    }
   ],
   "source": [
    "# ハッシュ関数\n",
    "def hash(key):\n",
    "    h = 0\n",
    "    # 一文字ずつユニコードを取得する。\n",
    "    for i in key:\n",
    "        if i != \"\":\n",
    "            h = h + ord(i)\n",
    "    return(h%1000)\n",
    "\n",
    "print(\"文字列をハッシュ値に変換します。\")\n",
    "print(\"何も入力しないと終了します。\")\n",
    "while True:\n",
    "    s = input(\"文字列を入力してください\")\n",
    "    if s == \"\":\n",
    "        break\n",
    "    print(s, \"→ハッシュ値\", hash(s))"
   ]
  },
  {
   "cell_type": "code",
   "execution_count": null,
   "metadata": {},
   "outputs": [],
   "source": []
  }
 ],
 "metadata": {
  "kernelspec": {
   "display_name": "Python 3",
   "language": "python",
   "name": "python3"
  },
  "language_info": {
   "codemirror_mode": {
    "name": "ipython",
    "version": 3
   },
   "file_extension": ".py",
   "mimetype": "text/x-python",
   "name": "python",
   "nbconvert_exporter": "python",
   "pygments_lexer": "ipython3",
   "version": "3.8.5"
  }
 },
 "nbformat": 4,
 "nbformat_minor": 4
}
