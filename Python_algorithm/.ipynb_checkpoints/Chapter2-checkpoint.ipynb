{
 "cells": [
  {
   "cell_type": "code",
   "execution_count": 6,
   "metadata": {},
   "outputs": [
    {
     "name": "stdout",
     "output_type": "stream",
     "text": [
      "合計点： 412\n",
      "平均点： 82.4\n"
     ]
    }
   ],
   "source": [
    "# 平均値の求め方\n",
    "score = [70, 98, 92, 88, 64]\n",
    "total = 0\n",
    "\n",
    "for i in range(len(score)):\n",
    "    total += score[i]\n",
    "\n",
    "average = total / len(score)\n",
    "print(\"合計点：\", total)\n",
    "print(\"平均点：\", average)"
   ]
  },
  {
   "cell_type": "code",
   "execution_count": 7,
   "metadata": {},
   "outputs": [
    {
     "name": "stdout",
     "output_type": "stream",
     "text": [
      "55\n"
     ]
    }
   ],
   "source": [
    "# 1からnまでを足し合わせる\n",
    "def addup(n):\n",
    "    addup_result = (1+n) * n/2\n",
    "    return int(addup_result)\n",
    "\n",
    "print(addup(10))"
   ]
  },
  {
   "cell_type": "code",
   "execution_count": 8,
   "metadata": {},
   "outputs": [
    {
     "name": "stdout",
     "output_type": "stream",
     "text": [
      "1 * 1 = 1\n",
      "1 * 2 = 2\n",
      "1 * 3 = 3\n",
      "1 * 4 = 4\n",
      "1 * 5 = 5\n",
      "1 * 6 = 6\n",
      "1 * 7 = 7\n",
      "1 * 8 = 8\n",
      "1 * 9 = 9\n",
      "2 * 1 = 2\n",
      "2 * 2 = 4\n",
      "2 * 3 = 6\n",
      "2 * 4 = 8\n",
      "2 * 5 = 10\n",
      "2 * 6 = 12\n",
      "2 * 7 = 14\n",
      "2 * 8 = 16\n",
      "2 * 9 = 18\n",
      "3 * 1 = 3\n",
      "3 * 2 = 6\n",
      "3 * 3 = 9\n",
      "3 * 4 = 12\n",
      "3 * 5 = 15\n",
      "3 * 6 = 18\n",
      "3 * 7 = 21\n",
      "3 * 8 = 24\n",
      "3 * 9 = 27\n",
      "4 * 1 = 4\n",
      "4 * 2 = 8\n",
      "4 * 3 = 12\n",
      "4 * 4 = 16\n",
      "4 * 5 = 20\n",
      "4 * 6 = 24\n",
      "4 * 7 = 28\n",
      "4 * 8 = 32\n",
      "4 * 9 = 36\n",
      "5 * 1 = 5\n",
      "5 * 2 = 10\n",
      "5 * 3 = 15\n",
      "5 * 4 = 20\n",
      "5 * 5 = 25\n",
      "5 * 6 = 30\n",
      "5 * 7 = 35\n",
      "5 * 8 = 40\n",
      "5 * 9 = 45\n",
      "6 * 1 = 6\n",
      "6 * 2 = 12\n",
      "6 * 3 = 18\n",
      "6 * 4 = 24\n",
      "6 * 5 = 30\n",
      "6 * 6 = 36\n",
      "6 * 7 = 42\n",
      "6 * 8 = 48\n",
      "6 * 9 = 54\n",
      "7 * 1 = 7\n",
      "7 * 2 = 14\n",
      "7 * 3 = 21\n",
      "7 * 4 = 28\n",
      "7 * 5 = 35\n",
      "7 * 6 = 42\n",
      "7 * 7 = 49\n",
      "7 * 8 = 56\n",
      "7 * 9 = 63\n",
      "8 * 1 = 8\n",
      "8 * 2 = 16\n",
      "8 * 3 = 24\n",
      "8 * 4 = 32\n",
      "8 * 5 = 40\n",
      "8 * 6 = 48\n",
      "8 * 7 = 56\n",
      "8 * 8 = 64\n",
      "8 * 9 = 72\n",
      "9 * 1 = 9\n",
      "9 * 2 = 18\n",
      "9 * 3 = 27\n",
      "9 * 4 = 36\n",
      "9 * 5 = 45\n",
      "9 * 6 = 54\n",
      "9 * 7 = 63\n",
      "9 * 8 = 72\n",
      "9 * 9 = 81\n"
     ]
    }
   ],
   "source": [
    "# 九九の計算\n",
    "for i in range(1, 10):\n",
    "    for j in range(1, 10):\n",
    "        print(i, \"*\", j, \"=\", i*j)"
   ]
  },
  {
   "cell_type": "code",
   "execution_count": 9,
   "metadata": {},
   "outputs": [
    {
     "name": "stdout",
     "output_type": "stream",
     "text": [
      "1x1= 1 2x1= 2 3x1= 3 4x1= 4 5x1= 5 6x1= 6 7x1= 7 8x1= 8 9x1= 9 \n",
      "1x2= 2 2x2= 4 3x2= 6 4x2= 8 5x2=10 6x2=12 7x2=14 8x2=16 9x2=18 \n",
      "1x3= 3 2x3= 6 3x3= 9 4x3=12 5x3=15 6x3=18 7x3=21 8x3=24 9x3=27 \n",
      "1x4= 4 2x4= 8 3x4=12 4x4=16 5x4=20 6x4=24 7x4=28 8x4=32 9x4=36 \n",
      "1x5= 5 2x5=10 3x5=15 4x5=20 5x5=25 6x5=30 7x5=35 8x5=40 9x5=45 \n",
      "1x6= 6 2x6=12 3x6=18 4x6=24 5x6=30 6x6=36 7x6=42 8x6=48 9x6=54 \n",
      "1x7= 7 2x7=14 3x7=21 4x7=28 5x7=35 6x7=42 7x7=49 8x7=56 9x7=63 \n",
      "1x8= 8 2x8=16 3x8=24 4x8=32 5x8=40 6x8=48 7x8=56 8x8=64 9x8=72 \n",
      "1x9= 9 2x9=18 3x9=27 4x9=36 5x9=45 6x9=54 7x9=63 8x9=72 9x9=81 \n"
     ]
    }
   ],
   "source": [
    "# 九九の計算の別解\n",
    "for i in range(1, 10):\n",
    "    kuku_result = \"\"\n",
    "    for j in range(1, 10):\n",
    "        kuku_result = kuku_result + \"{}x{}={:2d} \".format(j, i, i*j)\n",
    "    \n",
    "    print(kuku_result)"
   ]
  },
  {
   "cell_type": "code",
   "execution_count": 10,
   "metadata": {},
   "outputs": [
    {
     "name": "stdout",
     "output_type": "stream",
     "text": [
      "10!= 3628800\n"
     ]
    }
   ],
   "source": [
    "# 10の階乗を求める\n",
    "a = 10\n",
    "for i in range(9, 0, -1):\n",
    "    a = a * i\n",
    "print(\"10!=\", a)"
   ]
  },
  {
   "cell_type": "code",
   "execution_count": 11,
   "metadata": {},
   "outputs": [
    {
     "name": "stdout",
     "output_type": "stream",
     "text": [
      "0! = 1\n",
      "1! = 1\n",
      "2! = 2\n",
      "3! = 6\n",
      "4! = 24\n",
      "5! = 120\n",
      "6! = 720\n",
      "7! = 5040\n",
      "8! = 40320\n",
      "9! = 362880\n",
      "10! = 3628800\n",
      "11! = 39916800\n",
      "12! = 479001600\n",
      "13! = 6227020800\n",
      "14! = 87178291200\n",
      "15! = 1307674368000\n",
      "16! = 20922789888000\n",
      "17! = 355687428096000\n",
      "18! = 6402373705728000\n",
      "19! = 121645100408832000\n",
      "20! = 2432902008176640000\n"
     ]
    }
   ],
   "source": [
    "# 再帰関数で0!から20!を出力\n",
    "def fact(i):\n",
    "    if i == 0:\n",
    "        return 1\n",
    "    return i * fact(i-1)\n",
    "\n",
    "for i in range(0, 21):\n",
    "    print(str(i) + \"! =\", fact(i))"
   ]
  },
  {
   "cell_type": "code",
   "execution_count": 12,
   "metadata": {},
   "outputs": [
    {
     "name": "stdout",
     "output_type": "stream",
     "text": [
      "データ 0 を格納しました\n",
      "データ 1 を格納しました\n",
      "データ 2 を格納しました\n",
      "データ 3 を格納しました\n",
      "データ 4 を格納しました\n",
      "これ以上データを格納できません\n",
      "取り出したデータ： 4\n",
      "取り出したデータ： 3\n",
      "取り出したデータ： 2\n",
      "取り出したデータ： 1\n",
      "取り出したデータ： 0\n",
      "取り出すデータがありません\n",
      "取り出したデータ： None\n"
     ]
    }
   ],
   "source": [
    "# スタック\n",
    "\n",
    "# スタックのデータの総数\n",
    "MAX = 5\n",
    "# スタック用の配列\n",
    "stack = [0]*MAX\n",
    "# スタックポインタ\n",
    "sp = 0\n",
    "\n",
    "def push(i):\n",
    "    global sp\n",
    "    if sp < MAX:\n",
    "        stack[sp] = i\n",
    "        sp = sp + 1\n",
    "        print(\"データ\", i, \"を格納しました\")\n",
    "    else:\n",
    "        print(\"これ以上データを格納できません\")\n",
    "\n",
    "def pop(i):\n",
    "    global sp\n",
    "    if sp > 0:\n",
    "        sp = sp - 1\n",
    "        return stack[sp]\n",
    "    else:\n",
    "        print(\"取り出すデータがありません\")\n",
    "        return None\n",
    "    \n",
    "# スタックに格納\n",
    "for i in range(6):\n",
    "    push(i)\n",
    "# スタックから取り出す\n",
    "for i in range(6):\n",
    "    poped_num = pop(i)\n",
    "    print(\"取り出したデータ：\", poped_num)"
   ]
  },
  {
   "cell_type": "code",
   "execution_count": 29,
   "metadata": {},
   "outputs": [
    {
     "name": "stdout",
     "output_type": "stream",
     "text": [
      "データ 0 を追加しました\n",
      "データ 1 を追加しました\n",
      "データ 2 を追加しました\n",
      "データ 3 を追加しました\n",
      "データ 4 を追加しました\n",
      "これ以上データを入れられません\n",
      "取り出したデータ 0\n",
      "取り出したデータ 1\n",
      "取り出したデータ 2\n",
      "取り出したデータ 3\n",
      "取り出したデータ 4\n",
      "取り出すデータが存在しません\n",
      "取り出したデータ None\n"
     ]
    }
   ],
   "source": [
    "# キュー\n",
    "\n",
    "# キューのデータの総数+1を定義\n",
    "MAX = 6\n",
    "#　キュー用の配列\n",
    "que = [0]*MAX\n",
    "# データを取り出す位置を管理する変数\n",
    "head = 0\n",
    "# データを入れる位置を管理する変数\n",
    "tail = 0\n",
    "\n",
    "# データを入れる\n",
    "def enqueue(i):\n",
    "    global tail\n",
    "    # ntにデータを入れたときの次の位置を代入\n",
    "    nt = (tail+1)%MAX\n",
    "    \n",
    "    if nt == head:\n",
    "        print(\"これ以上データを入れられません\")\n",
    "    else:\n",
    "        que[tail] = i\n",
    "        tail = nt\n",
    "        print(\"データ\", i, \"を追加しました\")\n",
    "\n",
    "# データを取り出す\n",
    "def dequeue(i):\n",
    "    global head\n",
    "    if head == tail:\n",
    "        print(\"取り出すデータが存在しません\")\n",
    "    else:\n",
    "        num = que[head]\n",
    "        # headを次の位置にする\n",
    "        head = (head+1)%MAX\n",
    "        return num\n",
    "\n",
    "    \n",
    "for i in range(6):\n",
    "    enqueue(i)\n",
    "for i in range(6):\n",
    "    num = dequeue(i)\n",
    "    print(\"取り出したデータ\", num)"
   ]
  },
  {
   "cell_type": "code",
   "execution_count": 32,
   "metadata": {},
   "outputs": [
    {
     "ename": "SyntaxError",
     "evalue": "invalid syntax (<ipython-input-32-136e04dee2b7>, line 41)",
     "output_type": "error",
     "traceback": [
      "\u001b[1;36m  File \u001b[1;32m\"<ipython-input-32-136e04dee2b7>\"\u001b[1;36m, line \u001b[1;32m41\u001b[0m\n\u001b[1;33m    else:\u001b[0m\n\u001b[1;37m    ^\u001b[0m\n\u001b[1;31mSyntaxError\u001b[0m\u001b[1;31m:\u001b[0m invalid syntax\n"
     ]
    }
   ],
   "source": [
    "# 二分木\n",
    "\n",
    "# 右のノード番号を知るための定数\n",
    "LEFT = 0\n",
    "# 左のノード番号を知るための定数\n",
    "RIGHT = 1\n",
    "# データの値を知るための定数\n",
    "DATA = 2\n",
    "\n",
    "# ノードを2次元配列で定義\n",
    "node = [\n",
    "    [1, 2, 10],\n",
    "    [3, 4, 20],\n",
    "    [5, None, 30],\n",
    "    [None, None, 40],\n",
    "    [6, 7, 50],\n",
    "    [None, None, 60],\n",
    "    [None, None, 70],\n",
    "    [None, None, 80]\n",
    "]\n",
    "\n",
    "MAX = len(node)\n",
    "print(\"指定の番号のノードを調べます\")\n",
    "print(\"何も入力せずにEnterを押すと終了します\")\n",
    "\n",
    "while True:\n",
    "    str = input(\"number=\")\n",
    "    # 入力がなければ終了\n",
    "    if str == \"\":\n",
    "        break\n",
    "    num = int(str)\n",
    "    \n",
    "    # \n",
    "    if 0 <= num and num < MAX:\n",
    "        print(\"node{}の値は{}\".format(num, node[num][DATA]))\n",
    "        \n",
    "        # 左の子の番号を代入\n",
    "        left_num = node[num][LEFT]\n",
    "        if left_num != None:\n",
    "            print(\"左の子は\" + str(node[left_num][DATA])\n",
    "        else:\n",
    "            print(\"左の子は存在しません\")\n",
    "        \n",
    "        # 右の子の番号を入力\n",
    "        right_num = node[num][RIGHT]\n",
    "        if right_num != None:\n",
    "            print(\"右の子は\" + str(node[right_num][DATA]))\n",
    "        else:\n",
    "            print(\"右の子は存在しません\")\n",
    "            \n",
    "    else:\n",
    "        print(\"0から\" + str(MAX-1) + \"の範囲で入力してください\")"
   ]
  },
  {
   "cell_type": "code",
   "execution_count": 34,
   "metadata": {},
   "outputs": [
    {
     "name": "stdout",
     "output_type": "stream",
     "text": [
      "(0)<->(1)\n",
      "(0)<->(2)\n",
      "(1)<->(2)\n",
      "(1)<->(3)\n",
      "(2)<->(4)\n",
      "(3)<->(4)\n"
     ]
    }
   ],
   "source": [
    "# 隣接行列\n",
    "data = [\n",
    "    [0, 1, 1, 0, 0],\n",
    "    [1, 0, 1, 1, 0],\n",
    "    [1, 1, 0, 0, 1],\n",
    "    [0, 1, 0, 0, 1],\n",
    "    [0, 0, 1, 1, 0]\n",
    "]\n",
    "\n",
    "# ノードの番号を定義\n",
    "node = [\"(0)\", \"(1)\", \"(2)\", \"(3)\", \"(4)\", \"(5)\"]\n",
    "\n",
    "for i in range(5):\n",
    "    for j in range(i, 5):\n",
    "        if data[i][j] == 1 and data[i][j]:\n",
    "            print(node[i]+ \"<->\" + node[j])"
   ]
  },
  {
   "cell_type": "code",
   "execution_count": null,
   "metadata": {},
   "outputs": [],
   "source": []
  }
 ],
 "metadata": {
  "kernelspec": {
   "display_name": "Python 3",
   "language": "python",
   "name": "python3"
  },
  "language_info": {
   "codemirror_mode": {
    "name": "ipython",
    "version": 3
   },
   "file_extension": ".py",
   "mimetype": "text/x-python",
   "name": "python",
   "nbconvert_exporter": "python",
   "pygments_lexer": "ipython3",
   "version": "3.8.5"
  }
 },
 "nbformat": 4,
 "nbformat_minor": 4
}
