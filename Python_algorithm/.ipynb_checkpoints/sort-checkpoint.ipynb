{
 "cells": [
  {
   "cell_type": "code",
   "execution_count": 2,
   "metadata": {},
   "outputs": [
    {
     "name": "stdout",
     "output_type": "stream",
     "text": [
      "[9, 3, 7, 1, 4, 2, 5, 8, 6, 0] 元のデータ\n",
      "[0, 3, 7, 1, 4, 2, 5, 8, 6, 9] 1\n",
      "[0, 1, 7, 3, 4, 2, 5, 8, 6, 9] 2\n",
      "[0, 1, 2, 3, 4, 7, 5, 8, 6, 9] 3\n",
      "[0, 1, 2, 3, 4, 7, 5, 8, 6, 9] 4\n",
      "[0, 1, 2, 3, 4, 7, 5, 8, 6, 9] 5\n",
      "[0, 1, 2, 3, 4, 5, 7, 8, 6, 9] 6\n",
      "[0, 1, 2, 3, 4, 5, 6, 8, 7, 9] 7\n",
      "[0, 1, 2, 3, 4, 5, 6, 7, 8, 9] 8\n",
      "[0, 1, 2, 3, 4, 5, 6, 7, 8, 9] 9\n",
      "[0, 1, 2, 3, 4, 5, 6, 7, 8, 9] ソート後のデータ\n"
     ]
    }
   ],
   "source": [
    "# 選択ソート\n",
    "\n",
    "data = [9, 3, 7, 1, 4, 2, 5, 8, 6, 0]\n",
    "print(data, \"元のデータ\")\n",
    "\n",
    "for i in range(0, 9):\n",
    "    # 最小値の位置を保持する変数\n",
    "    m = i\n",
    "    for j in range(i+1, 10):\n",
    "        \n",
    "        if data[j] < data[m]:\n",
    "            # mにjの値を代入\n",
    "            m = j\n",
    "            \n",
    "    # data[i]とdata[m]の値を入れ替える        \n",
    "    data[i], data[m] = data[m], data[i]\n",
    "    # ソートの過程を出力\n",
    "    print(data, i+1)\n",
    "    \n",
    "print(data, \"ソート後のデータ\")"
   ]
  },
  {
   "cell_type": "code",
   "execution_count": 4,
   "metadata": {},
   "outputs": [
    {
     "name": "stdout",
     "output_type": "stream",
     "text": [
      "[9, 4, 7, 2, 3, 8, 6, 1, 5, 0] 元のデータ\n",
      "[0, 9, 4, 7, 2, 3, 8, 6, 1, 5] 1\n",
      "[0, 1, 9, 4, 7, 2, 3, 8, 6, 5] 2\n",
      "[0, 1, 2, 9, 4, 7, 3, 5, 8, 6] 3\n",
      "[0, 1, 2, 3, 9, 4, 7, 5, 6, 8] 4\n",
      "[0, 1, 2, 3, 4, 9, 5, 7, 6, 8] 5\n",
      "[0, 1, 2, 3, 4, 5, 9, 6, 7, 8] 6\n",
      "[0, 1, 2, 3, 4, 5, 6, 9, 7, 8] 7\n",
      "[0, 1, 2, 3, 4, 5, 6, 7, 9, 8] 8\n",
      "[0, 1, 2, 3, 4, 5, 6, 7, 8, 9] 9\n",
      "[0, 1, 2, 3, 4, 5, 6, 7, 8, 9] ソート後のデータ\n"
     ]
    }
   ],
   "source": [
    "# バブルソート(右から左に入れ替えていく)\n",
    "\n",
    "data = [9, 4, 7, 2, 3, 8, 6, 1, 5, 0]\n",
    "n = len(data)\n",
    "print(data, \"元のデータ\")\n",
    "\n",
    "for i in range(0, n-1):\n",
    "    for j in range(n-1, i, -1):\n",
    "        \n",
    "        if data[j-1] > data[j]:\n",
    "            # 左右のデータを入れ替える\n",
    "            data[j], data[j-1] = data[j-1], data[j]\n",
    "    # ソートの過程を出力\n",
    "    print(data, i+1)\n",
    "\n",
    "print(data, \"ソート後のデータ\")"
   ]
  },
  {
   "cell_type": "code",
   "execution_count": null,
   "metadata": {},
   "outputs": [],
   "source": [
    "# 挿入ソート\n",
    "\n",
    "data = [9, 2, 4, 7, 8, 3, 1, 5, 6, 0]\n",
    "n = len(data)\n",
    "print(data, \"元のデータ\")\n",
    "\n",
    "for i in range(1, n):\n",
    "    tmp = data[i]\n",
    "    j = i\n",
    "    \n",
    "    # tmpより大きな値を右にずらす\n",
    "    while j>0 and data[j-1]>tmp:\n",
    "        data[j] = data[j-1]\n",
    "        j = j - 1\n",
    "    \n",
    "    # ずらした先頭にtmpの値を挿入する\n",
    "    data[j] = tmp\n",
    "    # ソートの過程を出力\n",
    "    print(data, i)\n",
    "    \n",
    "print(data, \"ソート後のデータ\")"
   ]
  }
 ],
 "metadata": {
  "kernelspec": {
   "display_name": "Python 3",
   "language": "python",
   "name": "python3"
  },
  "language_info": {
   "codemirror_mode": {
    "name": "ipython",
    "version": 3
   },
   "file_extension": ".py",
   "mimetype": "text/x-python",
   "name": "python",
   "nbconvert_exporter": "python",
   "pygments_lexer": "ipython3",
   "version": "3.8.5"
  }
 },
 "nbformat": 4,
 "nbformat_minor": 4
}
