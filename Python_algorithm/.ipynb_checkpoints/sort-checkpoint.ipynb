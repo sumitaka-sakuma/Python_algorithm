{
 "cells": [
  {
   "cell_type": "code",
   "execution_count": null,
   "metadata": {},
   "outputs": [],
   "source": [
    "# 選択ソート\n",
    "\n",
    "data = [9, 3, 7, 1, 4, 2, 5, 8, 6, 0]\n",
    "print(data, \"元のデータ\")\n",
    "\n",
    "for i in range(0, 9):\n",
    "    # 最小値の位置を保持する変数\n",
    "    m = i\n",
    "    for j in range(i+1, 10):\n",
    "        \n",
    "        if data[j] < data[m]:\n",
    "            # mにjの値を代入\n",
    "            m = j\n",
    "            \n",
    "    # data[i]とdata[m]の値を入れ替える        \n",
    "    data[i], data[m] = data[m], data[i]\n",
    "    \n",
    "print(data, \"ソート後のデータ\")"
   ]
  }
 ],
 "metadata": {
  "kernelspec": {
   "display_name": "Python 3",
   "language": "python",
   "name": "python3"
  },
  "language_info": {
   "codemirror_mode": {
    "name": "ipython",
    "version": 3
   },
   "file_extension": ".py",
   "mimetype": "text/x-python",
   "name": "python",
   "nbconvert_exporter": "python",
   "pygments_lexer": "ipython3",
   "version": "3.8.5"
  }
 },
 "nbformat": 4,
 "nbformat_minor": 4
}
