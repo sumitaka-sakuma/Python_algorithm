{
 "cells": [
  {
   "cell_type": "code",
   "execution_count": 1,
   "metadata": {},
   "outputs": [
    {
     "name": "stdout",
     "output_type": "stream",
     "text": [
      "二分検索木を通り掛け順に巡回\n",
      "2\n",
      "5\n",
      "6\n",
      "8\n",
      "9\n",
      "10\n",
      "11\n",
      "12\n"
     ]
    }
   ],
   "source": [
    "# 二分検索木\n",
    "\n",
    "LEFT = 0\n",
    "RIGHT = 1\n",
    "DATA = 2\n",
    "node = [\n",
    "    [1, 2, 10],\n",
    "    [3, 4, 5],\n",
    "    [5, None, 12],\n",
    "    [None, None, 2],\n",
    "    [6, 7, 8],\n",
    "    [None, None, 11],\n",
    "    [None, None, 6],\n",
    "    [None, None, 9]\n",
    "]\n",
    "\n",
    "# 木を巡回する再帰関数\n",
    "def traverse(p):\n",
    "    if p != None:\n",
    "        # 引数を左の子の値とし、再度、関数を実行\n",
    "        traverse(node[p][LEFT])\n",
    "        print(node[p][DATA])\n",
    "        # 引数を右の子の値とし、再度、関数を実行\n",
    "        traverse(node[p][RIGHT])\n",
    "    \n",
    "print(\"二分検索木を通り掛け順に巡回\")\n",
    "traverse(0)"
   ]
  },
  {
   "cell_type": "code",
   "execution_count": null,
   "metadata": {},
   "outputs": [],
   "source": []
  }
 ],
 "metadata": {
  "kernelspec": {
   "display_name": "Python 3",
   "language": "python",
   "name": "python3"
  },
  "language_info": {
   "codemirror_mode": {
    "name": "ipython",
    "version": 3
   },
   "file_extension": ".py",
   "mimetype": "text/x-python",
   "name": "python",
   "nbconvert_exporter": "python",
   "pygments_lexer": "ipython3",
   "version": "3.8.5"
  }
 },
 "nbformat": 4,
 "nbformat_minor": 4
}
