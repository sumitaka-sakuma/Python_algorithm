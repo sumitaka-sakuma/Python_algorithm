{
 "cells": [
  {
   "cell_type": "code",
   "execution_count": 6,
   "metadata": {},
   "outputs": [
    {
     "name": "stdout",
     "output_type": "stream",
     "text": [
      "合計点： 412\n",
      "平均点： 82.4\n"
     ]
    }
   ],
   "source": [
    "# 平均値の求め方\n",
    "score = [70, 98, 92, 88, 64]\n",
    "total = 0\n",
    "\n",
    "for i in range(len(score)):\n",
    "    total += score[i]\n",
    "\n",
    "average = total / len(score)\n",
    "print(\"合計点：\", total)\n",
    "print(\"平均点：\", average)"
   ]
  },
  {
   "cell_type": "code",
   "execution_count": 7,
   "metadata": {},
   "outputs": [
    {
     "name": "stdout",
     "output_type": "stream",
     "text": [
      "55\n"
     ]
    }
   ],
   "source": [
    "# 1からnまでを足し合わせる\n",
    "def addup(n):\n",
    "    addup_result = (1+n) * n/2\n",
    "    return int(addup_result)\n",
    "\n",
    "print(addup(10))"
   ]
  },
  {
   "cell_type": "code",
   "execution_count": null,
   "metadata": {},
   "outputs": [],
   "source": []
  }
 ],
 "metadata": {
  "kernelspec": {
   "display_name": "Python 3",
   "language": "python",
   "name": "python3"
  },
  "language_info": {
   "codemirror_mode": {
    "name": "ipython",
    "version": 3
   },
   "file_extension": ".py",
   "mimetype": "text/x-python",
   "name": "python",
   "nbconvert_exporter": "python",
   "pygments_lexer": "ipython3",
   "version": "3.8.5"
  }
 },
 "nbformat": 4,
 "nbformat_minor": 4
}
