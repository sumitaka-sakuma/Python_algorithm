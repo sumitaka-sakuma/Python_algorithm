{
 "cells": [
  {
   "cell_type": "code",
   "execution_count": 1,
   "metadata": {},
   "outputs": [
    {
     "name": "stdout",
     "output_type": "stream",
     "text": [
      "データ 0 を格納しました\n",
      "データ 1 を格納しました\n",
      "データ 2 を格納しました\n",
      "データ 3 を格納しました\n",
      "データ 4 を格納しました\n",
      "これ以上データを格納できません\n",
      "取り出したデータ： 4\n",
      "取り出したデータ： 3\n",
      "取り出したデータ： 2\n",
      "取り出したデータ： 1\n",
      "取り出したデータ： 0\n",
      "取り出すデータがありません\n",
      "取り出したデータ： None\n"
     ]
    }
   ],
   "source": [
    "# スタック\n",
    "\n",
    "# スタックのデータの総数\n",
    "MAX = 5\n",
    "# スタック用の配列\n",
    "stack = [0]*MAX\n",
    "# スタックポインタ\n",
    "sp = 0\n",
    "\n",
    "def push(i):\n",
    "    global sp\n",
    "    if sp < MAX:\n",
    "        stack[sp] = i\n",
    "        sp = sp + 1\n",
    "        print(\"データ\", i, \"を格納しました\")\n",
    "    else:\n",
    "        print(\"これ以上データを格納できません\")\n",
    "\n",
    "def pop(i):\n",
    "    global sp\n",
    "    if sp > 0:\n",
    "        sp = sp - 1\n",
    "        return stack[sp]\n",
    "    else:\n",
    "        print(\"取り出すデータがありません\")\n",
    "        return None\n",
    "    \n",
    "# スタックに格納\n",
    "for i in range(6):\n",
    "    push(i)\n",
    "# スタックから取り出す\n",
    "for i in range(6):\n",
    "    poped_num = pop(i)\n",
    "    print(\"取り出したデータ：\", poped_num)"
   ]
  },
  {
   "cell_type": "code",
   "execution_count": 2,
   "metadata": {},
   "outputs": [
    {
     "name": "stdout",
     "output_type": "stream",
     "text": [
      "データ 0 を追加しました\n",
      "データ 1 を追加しました\n",
      "データ 2 を追加しました\n",
      "データ 3 を追加しました\n",
      "データ 4 を追加しました\n",
      "これ以上データを入れられません\n",
      "取り出したデータ 0\n",
      "取り出したデータ 1\n",
      "取り出したデータ 2\n",
      "取り出したデータ 3\n",
      "取り出したデータ 4\n",
      "取り出すデータが存在しません\n",
      "取り出したデータ None\n"
     ]
    }
   ],
   "source": [
    "# キュー\n",
    "\n",
    "# キューのデータの総数+1を定義\n",
    "MAX = 6\n",
    "#　キュー用の配列\n",
    "que = [0]*MAX\n",
    "# データを取り出す位置を管理する変数\n",
    "head = 0\n",
    "# データを入れる位置を管理する変数\n",
    "tail = 0\n",
    "\n",
    "# データを入れる\n",
    "def enqueue(i):\n",
    "    global tail\n",
    "    # ntにデータを入れたときの次の位置を代入\n",
    "    nt = (tail+1)%MAX\n",
    "    \n",
    "    if nt == head:\n",
    "        print(\"これ以上データを入れられません\")\n",
    "    else:\n",
    "        que[tail] = i\n",
    "        tail = nt\n",
    "        print(\"データ\", i, \"を追加しました\")\n",
    "\n",
    "# データを取り出す\n",
    "def dequeue(i):\n",
    "    global head\n",
    "    if head == tail:\n",
    "        print(\"取り出すデータが存在しません\")\n",
    "    else:\n",
    "        num = que[head]\n",
    "        # headを次の位置にする\n",
    "        head = (head+1)%MAX\n",
    "        return num\n",
    "\n",
    "    \n",
    "for i in range(6):\n",
    "    enqueue(i)\n",
    "for i in range(6):\n",
    "    num = dequeue(i)\n",
    "    print(\"取り出したデータ\", num)"
   ]
  },
  {
   "cell_type": "code",
   "execution_count": null,
   "metadata": {},
   "outputs": [],
   "source": []
  }
 ],
 "metadata": {
  "kernelspec": {
   "display_name": "Python 3",
   "language": "python",
   "name": "python3"
  },
  "language_info": {
   "codemirror_mode": {
    "name": "ipython",
    "version": 3
   },
   "file_extension": ".py",
   "mimetype": "text/x-python",
   "name": "python",
   "nbconvert_exporter": "python",
   "pygments_lexer": "ipython3",
   "version": "3.8.5"
  }
 },
 "nbformat": 4,
 "nbformat_minor": 4
}
