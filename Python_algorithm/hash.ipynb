{
 "cells": [
  {
   "cell_type": "code",
   "execution_count": 1,
   "metadata": {},
   "outputs": [
    {
     "name": "stdout",
     "output_type": "stream",
     "text": [
      "文字列をハッシュ値に変換します。\n",
      "何も入力しないと終了します。\n"
     ]
    },
    {
     "name": "stdin",
     "output_type": "stream",
     "text": [
      "文字列を入力してください 佐久間純貴\n"
     ]
    },
    {
     "name": "stdout",
     "output_type": "stream",
     "text": [
      "佐久間純貴 →ハッシュ値 672\n"
     ]
    },
    {
     "name": "stdin",
     "output_type": "stream",
     "text": [
      "文字列を入力してください \n"
     ]
    }
   ],
   "source": [
    "# ハッシュ関数\n",
    "def hash(key):\n",
    "    h = 0\n",
    "    # 一文字ずつユニコードを取得する。\n",
    "    for i in key:\n",
    "        if i != \"\":\n",
    "            h = h + ord(i)\n",
    "    return(h%1000)\n",
    "\n",
    "print(\"文字列をハッシュ値に変換します。\")\n",
    "print(\"何も入力しないと終了します。\")\n",
    "while True:\n",
    "    s = input(\"文字列を入力してください\")\n",
    "    if s == \"\":\n",
    "        break\n",
    "    print(s, \"→ハッシュ値\", hash(s))"
   ]
  },
  {
   "cell_type": "code",
   "execution_count": null,
   "metadata": {},
   "outputs": [],
   "source": [
    "# 衝突回避の実装\n",
    "\n",
    "# ハッシュの最大値\n",
    "HASH = 5\n",
    "name = [None]*HASH\n",
    "tel = [None]*HASH\n",
    "\n",
    "# ハッシュ関数\n",
    "def hash(key):\n",
    "    h = 0\n",
    "    for i in key:\n",
    "        h = h + ord(i)\n",
    "    return h%HASH\n",
    "\n",
    "# 再ハッシュでデータを格納する関数（オープンアドレス法）\n",
    "def open_add(n, t, h):\n",
    "    flg = False\n",
    "    # HASH-1回繰り返す\n",
    "    for i in range(HASH-1):\n",
    "        # ｈを1ずつ増やし、HASHの値になれば0にする\n",
    "        h = (h+1)%HASH\n",
    "        # 空の場合\n",
    "        if name[h] == None:\n",
    "            name[h] = n\n",
    "            tel[h] = t\n",
    "            flg = True\n",
    "            print(\"再ハッシュ\", h, \"データ確認完了\")\n",
    "            break\n",
    "        # 空の配列がない場合  \n",
    "        if flg == False:\n",
    "            print(\"データを格納できる場所がありません\")\n",
    "        \n",
    "# 再ハッシュした位置を探す関数\n",
    "def search_rehash(key, h):\n",
    "    # HASH-1回繰り返す\n",
    "    for i in range(HASH-1):\n",
    "        # hを1ずつ増やし、HASHの値になれば0にする\n",
    "        h = (h+1)%HASH\n",
    "        # 検索する値が格納されている場合\n",
    "        if name[h] == key:\n",
    "            return h\n",
    "    # 検索する値が格納されていない場合\n",
    "    return -1\n",
    "\n",
    "# ハッシュの登録\n",
    "while True:\n",
    "    n = input(\"名前を入力してください\")\n",
    "    if n == \"\":\n",
    "        break\n",
    "    t = input(\"電話番号を入力してください\")\n",
    "    \n",
    "    # 名前からハッシュを生成\n",
    "    h = hash(n)\n",
    "    # ハッシュの配列が空の場合\n",
    "    if name[h] == None:\n",
    "        name[h] = n\n",
    "        tel[h] = t\n",
    "        print(\"ハッシュ値\", h, \"データ格納完了\")\n",
    "    else:\n",
    "        # オープンアドレス法を実行\n",
    "        open_add(n, t, h)\n",
    "\n",
    "# 確認用にnameとtelを出力\n",
    "print(name)\n",
    "print(tel)\n",
    "\n",
    "# 名前で検索\n",
    "while True:\n",
    "    n = input(\"検索する名前を入力してください\")\n",
    "    if n == \"\":\n",
    "        break\n",
    "    # 名前でハッシュを生成    \n",
    "    h = hash(n)\n",
    "    # 名前が格納されでいる場合\n",
    "    if name[h] == n:\n",
    "        print(n + \"さんの電話番号は\" + tel[h])\n",
    "    # ハッシュの値が空の場合\n",
    "    elif name[h] == \"None\":\n",
    "        print(\"その名前は登録されていません\")\n",
    "    else:\n",
    "        # 別の配列に格納されていないか探す\n",
    "        h = search_rehash(n, h)\n",
    "        # 格納されていない場合\n",
    "        if h == -1:\n",
    "            print(\"その名前は登録されていません\")\n",
    "        else:\n",
    "             print(n + \"さんの電話番号は\" + tel[h])"
   ]
  },
  {
   "cell_type": "code",
   "execution_count": 1,
   "metadata": {},
   "outputs": [
    {
     "name": "stdout",
     "output_type": "stream",
     "text": [
      "SHA-256のハッシュを生成します\n",
      "何も入力しないと終了します\n"
     ]
    },
    {
     "name": "stdin",
     "output_type": "stream",
     "text": [
      "文字列を入力してください さくま\n"
     ]
    },
    {
     "name": "stdout",
     "output_type": "stream",
     "text": [
      "819f1c486035c18f25aead7909f3e44a4cb82bd1b7c41d4fcfb69133f1dd0610\n"
     ]
    },
    {
     "name": "stdin",
     "output_type": "stream",
     "text": [
      "文字列を入力してください \n"
     ]
    }
   ],
   "source": [
    "# 暗号学的ハッシュ関数\n",
    "import hashlib\n",
    "\n",
    "print(\"SHA-256のハッシュを生成します\")\n",
    "print(\"何も入力しないと終了します\")\n",
    "while True:\n",
    "    s = input(\"文字列を入力してください\")\n",
    "    if s ==\"\":\n",
    "        break\n",
    "    # ハッシュを生成\n",
    "    h = hashlib.sha256(s.encode()).hexdigest()\n",
    "    print(h)"
   ]
  },
  {
   "cell_type": "code",
   "execution_count": null,
   "metadata": {},
   "outputs": [],
   "source": []
  }
 ],
 "metadata": {
  "kernelspec": {
   "display_name": "Python 3",
   "language": "python",
   "name": "python3"
  },
  "language_info": {
   "codemirror_mode": {
    "name": "ipython",
    "version": 3
   },
   "file_extension": ".py",
   "mimetype": "text/x-python",
   "name": "python",
   "nbconvert_exporter": "python",
   "pygments_lexer": "ipython3",
   "version": "3.8.5"
  }
 },
 "nbformat": 4,
 "nbformat_minor": 4
}
